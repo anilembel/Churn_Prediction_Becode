{
 "cells": [
  {
   "attachments": {},
   "cell_type": "markdown",
   "metadata": {},
   "source": [
    "## Classification"
   ]
  },
  {
   "cell_type": "code",
   "execution_count": 19,
   "metadata": {},
   "outputs": [
    {
     "data": {
      "text/html": [
       "<div>\n",
       "<style scoped>\n",
       "    .dataframe tbody tr th:only-of-type {\n",
       "        vertical-align: middle;\n",
       "    }\n",
       "\n",
       "    .dataframe tbody tr th {\n",
       "        vertical-align: top;\n",
       "    }\n",
       "\n",
       "    .dataframe thead th {\n",
       "        text-align: right;\n",
       "    }\n",
       "</style>\n",
       "<table border=\"1\" class=\"dataframe\">\n",
       "  <thead>\n",
       "    <tr style=\"text-align: right;\">\n",
       "      <th></th>\n",
       "      <th>Attrition_Flag</th>\n",
       "      <th>Customer_Age</th>\n",
       "      <th>Gender</th>\n",
       "      <th>Dependent_count</th>\n",
       "      <th>Marital_Status</th>\n",
       "      <th>Months_on_book</th>\n",
       "      <th>Total_Relationship_Count</th>\n",
       "      <th>Months_Inactive_12_mon</th>\n",
       "      <th>Contacts_Count_12_mon</th>\n",
       "      <th>Credit_Limit</th>\n",
       "      <th>...</th>\n",
       "      <th>Income_Category_$120K +</th>\n",
       "      <th>Income_Category_$40K - $60K</th>\n",
       "      <th>Income_Category_$60K - $80K</th>\n",
       "      <th>Income_Category_$80K - $120K</th>\n",
       "      <th>Income_Category_Less than $40K</th>\n",
       "      <th>Income_Category_Unknown</th>\n",
       "      <th>Card_Category_Blue</th>\n",
       "      <th>Card_Category_Gold</th>\n",
       "      <th>Card_Category_Platinum</th>\n",
       "      <th>Card_Category_Silver</th>\n",
       "    </tr>\n",
       "  </thead>\n",
       "  <tbody>\n",
       "    <tr>\n",
       "      <th>10105</th>\n",
       "      <td>Existing Customer</td>\n",
       "      <td>50</td>\n",
       "      <td>0</td>\n",
       "      <td>2</td>\n",
       "      <td>0</td>\n",
       "      <td>40</td>\n",
       "      <td>3</td>\n",
       "      <td>2</td>\n",
       "      <td>3</td>\n",
       "      <td>4003.0</td>\n",
       "      <td>...</td>\n",
       "      <td>0</td>\n",
       "      <td>1</td>\n",
       "      <td>0</td>\n",
       "      <td>0</td>\n",
       "      <td>0</td>\n",
       "      <td>0</td>\n",
       "      <td>1</td>\n",
       "      <td>0</td>\n",
       "      <td>0</td>\n",
       "      <td>0</td>\n",
       "    </tr>\n",
       "    <tr>\n",
       "      <th>10106</th>\n",
       "      <td>Attrited Customer</td>\n",
       "      <td>41</td>\n",
       "      <td>0</td>\n",
       "      <td>2</td>\n",
       "      <td>3</td>\n",
       "      <td>25</td>\n",
       "      <td>4</td>\n",
       "      <td>2</td>\n",
       "      <td>3</td>\n",
       "      <td>4277.0</td>\n",
       "      <td>...</td>\n",
       "      <td>0</td>\n",
       "      <td>1</td>\n",
       "      <td>0</td>\n",
       "      <td>0</td>\n",
       "      <td>0</td>\n",
       "      <td>0</td>\n",
       "      <td>1</td>\n",
       "      <td>0</td>\n",
       "      <td>0</td>\n",
       "      <td>0</td>\n",
       "    </tr>\n",
       "    <tr>\n",
       "      <th>10107</th>\n",
       "      <td>Attrited Customer</td>\n",
       "      <td>44</td>\n",
       "      <td>1</td>\n",
       "      <td>1</td>\n",
       "      <td>1</td>\n",
       "      <td>36</td>\n",
       "      <td>5</td>\n",
       "      <td>3</td>\n",
       "      <td>4</td>\n",
       "      <td>5409.0</td>\n",
       "      <td>...</td>\n",
       "      <td>0</td>\n",
       "      <td>0</td>\n",
       "      <td>0</td>\n",
       "      <td>0</td>\n",
       "      <td>1</td>\n",
       "      <td>0</td>\n",
       "      <td>1</td>\n",
       "      <td>0</td>\n",
       "      <td>0</td>\n",
       "      <td>0</td>\n",
       "    </tr>\n",
       "    <tr>\n",
       "      <th>10108</th>\n",
       "      <td>Attrited Customer</td>\n",
       "      <td>30</td>\n",
       "      <td>0</td>\n",
       "      <td>2</td>\n",
       "      <td>2</td>\n",
       "      <td>36</td>\n",
       "      <td>4</td>\n",
       "      <td>3</td>\n",
       "      <td>3</td>\n",
       "      <td>5281.0</td>\n",
       "      <td>...</td>\n",
       "      <td>0</td>\n",
       "      <td>1</td>\n",
       "      <td>0</td>\n",
       "      <td>0</td>\n",
       "      <td>0</td>\n",
       "      <td>0</td>\n",
       "      <td>1</td>\n",
       "      <td>0</td>\n",
       "      <td>0</td>\n",
       "      <td>0</td>\n",
       "    </tr>\n",
       "    <tr>\n",
       "      <th>10109</th>\n",
       "      <td>Attrited Customer</td>\n",
       "      <td>43</td>\n",
       "      <td>1</td>\n",
       "      <td>2</td>\n",
       "      <td>1</td>\n",
       "      <td>25</td>\n",
       "      <td>6</td>\n",
       "      <td>2</td>\n",
       "      <td>4</td>\n",
       "      <td>10388.0</td>\n",
       "      <td>...</td>\n",
       "      <td>0</td>\n",
       "      <td>0</td>\n",
       "      <td>0</td>\n",
       "      <td>0</td>\n",
       "      <td>1</td>\n",
       "      <td>0</td>\n",
       "      <td>0</td>\n",
       "      <td>0</td>\n",
       "      <td>0</td>\n",
       "      <td>1</td>\n",
       "    </tr>\n",
       "  </tbody>\n",
       "</table>\n",
       "<p>5 rows × 33 columns</p>\n",
       "</div>"
      ],
      "text/plain": [
       "          Attrition_Flag  Customer_Age  Gender  Dependent_count  \\\n",
       "10105  Existing Customer            50       0                2   \n",
       "10106  Attrited Customer            41       0                2   \n",
       "10107  Attrited Customer            44       1                1   \n",
       "10108  Attrited Customer            30       0                2   \n",
       "10109  Attrited Customer            43       1                2   \n",
       "\n",
       "       Marital_Status  Months_on_book  Total_Relationship_Count  \\\n",
       "10105               0              40                         3   \n",
       "10106               3              25                         4   \n",
       "10107               1              36                         5   \n",
       "10108               2              36                         4   \n",
       "10109               1              25                         6   \n",
       "\n",
       "       Months_Inactive_12_mon  Contacts_Count_12_mon  Credit_Limit  ...  \\\n",
       "10105                       2                      3        4003.0  ...   \n",
       "10106                       2                      3        4277.0  ...   \n",
       "10107                       3                      4        5409.0  ...   \n",
       "10108                       3                      3        5281.0  ...   \n",
       "10109                       2                      4       10388.0  ...   \n",
       "\n",
       "       Income_Category_$120K +  Income_Category_$40K - $60K  \\\n",
       "10105                        0                            1   \n",
       "10106                        0                            1   \n",
       "10107                        0                            0   \n",
       "10108                        0                            1   \n",
       "10109                        0                            0   \n",
       "\n",
       "       Income_Category_$60K - $80K  Income_Category_$80K - $120K  \\\n",
       "10105                            0                             0   \n",
       "10106                            0                             0   \n",
       "10107                            0                             0   \n",
       "10108                            0                             0   \n",
       "10109                            0                             0   \n",
       "\n",
       "       Income_Category_Less than $40K  Income_Category_Unknown  \\\n",
       "10105                               0                        0   \n",
       "10106                               0                        0   \n",
       "10107                               1                        0   \n",
       "10108                               0                        0   \n",
       "10109                               1                        0   \n",
       "\n",
       "       Card_Category_Blue  Card_Category_Gold  Card_Category_Platinum  \\\n",
       "10105                   1                   0                       0   \n",
       "10106                   1                   0                       0   \n",
       "10107                   1                   0                       0   \n",
       "10108                   1                   0                       0   \n",
       "10109                   0                   0                       0   \n",
       "\n",
       "       Card_Category_Silver  \n",
       "10105                     0  \n",
       "10106                     0  \n",
       "10107                     0  \n",
       "10108                     0  \n",
       "10109                     1  \n",
       "\n",
       "[5 rows x 33 columns]"
      ]
     },
     "execution_count": 19,
     "metadata": {},
     "output_type": "execute_result"
    }
   ],
   "source": [
    "import pickle\n",
    "\n",
    "from imblearn.over_sampling import RandomOverSampler\n",
    "from imblearn.under_sampling import RandomUnderSampler\n",
    "\n",
    "import matplotlib.pyplot  as plt\n",
    "\n",
    "import pandas as pd\n",
    "import seaborn as sns\n",
    "data = pd.read_csv('../2_data cleaning/Cleaned_data.csv')\n",
    "data = data.drop('Unnamed: 0', axis=1)\n",
    "data.tail()\n"
   ]
  },
  {
   "cell_type": "code",
   "execution_count": 20,
   "metadata": {},
   "outputs": [],
   "source": [
    "# data.columns"
   ]
  },
  {
   "cell_type": "code",
   "execution_count": 21,
   "metadata": {},
   "outputs": [],
   "source": [
    "# data.dtypes"
   ]
  },
  {
   "cell_type": "code",
   "execution_count": 22,
   "metadata": {},
   "outputs": [
    {
     "data": {
      "text/plain": [
       "0    Existing Customer\n",
       "1    Existing Customer\n",
       "2    Existing Customer\n",
       "3    Existing Customer\n",
       "4    Existing Customer\n",
       "Name: Attrition_Flag, dtype: object"
      ]
     },
     "execution_count": 22,
     "metadata": {},
     "output_type": "execute_result"
    }
   ],
   "source": [
    "# Select target and features\n",
    "\n",
    "# Select features\n",
    "features = data.drop(['Attrition_Flag'], axis=1)\n",
    "\n",
    "# Select target\n",
    "target = data['Attrition_Flag']\n",
    "\n",
    "target.head()\n"
   ]
  },
  {
   "cell_type": "code",
   "execution_count": 23,
   "metadata": {},
   "outputs": [],
   "source": [
    "# Label target\n",
    "from sklearn.preprocessing import StandardScaler\n",
    "from sklearn import set_config\n",
    "from sklearn.preprocessing import LabelEncoder\n",
    "# set_config(transform_output=\"pandas\")\n",
    "lb = LabelEncoder()\n",
    "\n",
    "lb.fit(target)\n",
    "target_names = lb.classes_ # save the taget names for classification report\n",
    "target_imbalance = target\n",
    "target = lb.transform(target)\n"
   ]
  },
  {
   "attachments": {},
   "cell_type": "markdown",
   "metadata": {},
   "source": [
    "## Plot target imbalance"
   ]
  },
  {
   "cell_type": "code",
   "execution_count": 24,
   "metadata": {},
   "outputs": [
    {
     "data": {
      "text/plain": [
       "Text(0.5, 0.98, 'Imbalanced target')"
      ]
     },
     "execution_count": 24,
     "metadata": {},
     "output_type": "execute_result"
    },
    {
     "data": {
      "image/png": "[encoded data removed]",
      "text/plain": [
       "<Figure size 500x500 with 1 Axes>"
      ]
     },
     "metadata": {},
     "output_type": "display_data"
    }
   ],
   "source": [
    "imbalance_graph = sns.displot(data['Attrition_Flag'],color='purple')\n",
    "imbalance_graph.fig.suptitle('Imbalanced target')"
   ]
  },
  {
   "cell_type": "code",
   "execution_count": 25,
   "metadata": {},
   "outputs": [
    {
     "name": "stdout",
     "output_type": "stream",
     "text": [
      "{'Attrited Customer': 0, 'Existing Customer': 1}\n"
     ]
    }
   ],
   "source": [
    "# Store label mapping to assign target names in classification report\n",
    "lb_name_mapping = dict(zip(lb.classes_, lb.transform(lb.classes_)))\n",
    "print(lb_name_mapping)"
   ]
  },
  {
   "attachments": {},
   "cell_type": "markdown",
   "metadata": {},
   "source": [
    "## Split Train Test"
   ]
  },
  {
   "cell_type": "code",
   "execution_count": 26,
   "metadata": {},
   "outputs": [
    {
     "data": {
      "text/plain": [
       "array([0, 1, 1, ..., 1, 1, 0])"
      ]
     },
     "execution_count": 26,
     "metadata": {},
     "output_type": "execute_result"
    }
   ],
   "source": [
    "# Split the Samples to train and test\n",
    "from sklearn.model_selection import train_test_split\n",
    "X_train, X_test, y_train, y_test = train_test_split(features, target, test_size=0.3, random_state=38)\n",
    "y_train"
   ]
  },
  {
   "attachments": {},
   "cell_type": "markdown",
   "metadata": {},
   "source": [
    "## Under and Over Sampling"
   ]
  },
  {
   "attachments": {},
   "cell_type": "markdown",
   "metadata": {},
   "source": [
    "#### only on train set, so after splitting"
   ]
  },
  {
   "cell_type": "code",
   "execution_count": 27,
   "metadata": {},
   "outputs": [],
   "source": [
    "\n",
    "ros = RandomOverSampler(random_state=0, sampling_strategy=.2)\n",
    "\n",
    "X_train, y_train = ros.fit_resample(X_train, y_train)\n"
   ]
  },
  {
   "cell_type": "code",
   "execution_count": 28,
   "metadata": {},
   "outputs": [
    {
     "data": {
      "text/plain": [
       "Text(0.5, 0.98, 'Random Over Sampled target')"
      ]
     },
     "execution_count": 28,
     "metadata": {},
     "output_type": "execute_result"
    },
    {
     "data": {
      "image/png": "[encoded data removed]",
      "text/plain": [
       "<Figure size 500x500 with 1 Axes>"
      ]
     },
     "metadata": {},
     "output_type": "display_data"
    }
   ],
   "source": [
    "target_ROS = lb.inverse_transform(y_train)\n",
    "ROS_graph = sns.displot(target_ROS)\n",
    "ROS_graph.fig.suptitle('Random Over Sampled target')"
   ]
  },
  {
   "cell_type": "code",
   "execution_count": 29,
   "metadata": {},
   "outputs": [
    {
     "data": {
      "text/html": [
       "<div>\n",
       "<style scoped>\n",
       "    .dataframe tbody tr th:only-of-type {\n",
       "        vertical-align: middle;\n",
       "    }\n",
       "\n",
       "    .dataframe tbody tr th {\n",
       "        vertical-align: top;\n",
       "    }\n",
       "\n",
       "    .dataframe thead th {\n",
       "        text-align: right;\n",
       "    }\n",
       "</style>\n",
       "<table border=\"1\" class=\"dataframe\">\n",
       "  <thead>\n",
       "    <tr style=\"text-align: right;\">\n",
       "      <th></th>\n",
       "      <th>Customer_Age_scaled</th>\n",
       "      <th>Gender_scaled</th>\n",
       "      <th>Dependent_count_scaled</th>\n",
       "      <th>Marital_Status_scaled</th>\n",
       "      <th>Months_on_book_scaled</th>\n",
       "      <th>Total_Relationship_Count_scaled</th>\n",
       "      <th>Months_Inactive_12_mon_scaled</th>\n",
       "      <th>Contacts_Count_12_mon_scaled</th>\n",
       "      <th>Credit_Limit_scaled</th>\n",
       "      <th>Total_Revolving_Bal_scaled</th>\n",
       "      <th>...</th>\n",
       "      <th>Income_Category_$120K +_scaled</th>\n",
       "      <th>Income_Category_$40K - $60K_scaled</th>\n",
       "      <th>Income_Category_$60K - $80K_scaled</th>\n",
       "      <th>Income_Category_$80K - $120K_scaled</th>\n",
       "      <th>Income_Category_Less than $40K_scaled</th>\n",
       "      <th>Income_Category_Unknown_scaled</th>\n",
       "      <th>Card_Category_Blue_scaled</th>\n",
       "      <th>Card_Category_Gold_scaled</th>\n",
       "      <th>Card_Category_Platinum_scaled</th>\n",
       "      <th>Card_Category_Silver_scaled</th>\n",
       "    </tr>\n",
       "  </thead>\n",
       "  <tbody>\n",
       "    <tr>\n",
       "      <th>0</th>\n",
       "      <td>-0.907711</td>\n",
       "      <td>-1.063067</td>\n",
       "      <td>0.517820</td>\n",
       "      <td>0.195709</td>\n",
       "      <td>-0.867068</td>\n",
       "      <td>0.122031</td>\n",
       "      <td>0.652897</td>\n",
       "      <td>1.393830</td>\n",
       "      <td>-0.699803</td>\n",
       "      <td>-1.423485</td>\n",
       "      <td>...</td>\n",
       "      <td>-0.274747</td>\n",
       "      <td>-0.464327</td>\n",
       "      <td>2.487633</td>\n",
       "      <td>-0.420153</td>\n",
       "      <td>-0.740522</td>\n",
       "      <td>-0.350005</td>\n",
       "      <td>0.266699</td>\n",
       "      <td>-0.102351</td>\n",
       "      <td>-0.04886</td>\n",
       "      <td>-0.238115</td>\n",
       "    </tr>\n",
       "    <tr>\n",
       "      <th>1</th>\n",
       "      <td>-0.038481</td>\n",
       "      <td>0.940675</td>\n",
       "      <td>0.517820</td>\n",
       "      <td>0.195709</td>\n",
       "      <td>-0.118488</td>\n",
       "      <td>1.406771</td>\n",
       "      <td>2.635615</td>\n",
       "      <td>-1.321799</td>\n",
       "      <td>-0.712771</td>\n",
       "      <td>-0.070195</td>\n",
       "      <td>...</td>\n",
       "      <td>-0.274747</td>\n",
       "      <td>-0.464327</td>\n",
       "      <td>-0.401989</td>\n",
       "      <td>-0.420153</td>\n",
       "      <td>1.350398</td>\n",
       "      <td>-0.350005</td>\n",
       "      <td>0.266699</td>\n",
       "      <td>-0.102351</td>\n",
       "      <td>-0.04886</td>\n",
       "      <td>-0.238115</td>\n",
       "    </tr>\n",
       "    <tr>\n",
       "      <th>2</th>\n",
       "      <td>-0.535184</td>\n",
       "      <td>0.940675</td>\n",
       "      <td>-1.029355</td>\n",
       "      <td>0.195709</td>\n",
       "      <td>0.006275</td>\n",
       "      <td>0.122031</td>\n",
       "      <td>0.652897</td>\n",
       "      <td>-1.321799</td>\n",
       "      <td>-0.699473</td>\n",
       "      <td>0.173175</td>\n",
       "      <td>...</td>\n",
       "      <td>-0.274747</td>\n",
       "      <td>-0.464327</td>\n",
       "      <td>-0.401989</td>\n",
       "      <td>-0.420153</td>\n",
       "      <td>1.350398</td>\n",
       "      <td>-0.350005</td>\n",
       "      <td>0.266699</td>\n",
       "      <td>-0.102351</td>\n",
       "      <td>-0.04886</td>\n",
       "      <td>-0.238115</td>\n",
       "    </tr>\n",
       "    <tr>\n",
       "      <th>3</th>\n",
       "      <td>0.085695</td>\n",
       "      <td>-1.063067</td>\n",
       "      <td>0.517820</td>\n",
       "      <td>0.195709</td>\n",
       "      <td>0.255801</td>\n",
       "      <td>-1.805080</td>\n",
       "      <td>0.652897</td>\n",
       "      <td>-0.416589</td>\n",
       "      <td>2.575314</td>\n",
       "      <td>-1.423485</td>\n",
       "      <td>...</td>\n",
       "      <td>-0.274747</td>\n",
       "      <td>-0.464327</td>\n",
       "      <td>-0.401989</td>\n",
       "      <td>2.380084</td>\n",
       "      <td>-0.740522</td>\n",
       "      <td>-0.350005</td>\n",
       "      <td>0.266699</td>\n",
       "      <td>-0.102351</td>\n",
       "      <td>-0.04886</td>\n",
       "      <td>-0.238115</td>\n",
       "    </tr>\n",
       "    <tr>\n",
       "      <th>4</th>\n",
       "      <td>0.085695</td>\n",
       "      <td>-1.063067</td>\n",
       "      <td>0.517820</td>\n",
       "      <td>0.195709</td>\n",
       "      <td>-0.118488</td>\n",
       "      <td>0.764401</td>\n",
       "      <td>-1.329821</td>\n",
       "      <td>-0.416589</td>\n",
       "      <td>0.965891</td>\n",
       "      <td>0.149822</td>\n",
       "      <td>...</td>\n",
       "      <td>-0.274747</td>\n",
       "      <td>-0.464327</td>\n",
       "      <td>2.487633</td>\n",
       "      <td>-0.420153</td>\n",
       "      <td>-0.740522</td>\n",
       "      <td>-0.350005</td>\n",
       "      <td>0.266699</td>\n",
       "      <td>-0.102351</td>\n",
       "      <td>-0.04886</td>\n",
       "      <td>-0.238115</td>\n",
       "    </tr>\n",
       "  </tbody>\n",
       "</table>\n",
       "<p>5 rows × 32 columns</p>\n",
       "</div>"
      ],
      "text/plain": [
       "   Customer_Age_scaled  Gender_scaled  Dependent_count_scaled  \\\n",
       "0            -0.907711      -1.063067                0.517820   \n",
       "1            -0.038481       0.940675                0.517820   \n",
       "2            -0.535184       0.940675               -1.029355   \n",
       "3             0.085695      -1.063067                0.517820   \n",
       "4             0.085695      -1.063067                0.517820   \n",
       "\n",
       "   Marital_Status_scaled  Months_on_book_scaled  \\\n",
       "0               0.195709              -0.867068   \n",
       "1               0.195709              -0.118488   \n",
       "2               0.195709               0.006275   \n",
       "3               0.195709               0.255801   \n",
       "4               0.195709              -0.118488   \n",
       "\n",
       "   Total_Relationship_Count_scaled  Months_Inactive_12_mon_scaled  \\\n",
       "0                         0.122031                       0.652897   \n",
       "1                         1.406771                       2.635615   \n",
       "2                         0.122031                       0.652897   \n",
       "3                        -1.805080                       0.652897   \n",
       "4                         0.764401                      -1.329821   \n",
       "\n",
       "   Contacts_Count_12_mon_scaled  Credit_Limit_scaled  \\\n",
       "0                      1.393830            -0.699803   \n",
       "1                     -1.321799            -0.712771   \n",
       "2                     -1.321799            -0.699473   \n",
       "3                     -0.416589             2.575314   \n",
       "4                     -0.416589             0.965891   \n",
       "\n",
       "   Total_Revolving_Bal_scaled  ...  Income_Category_$120K +_scaled  \\\n",
       "0                   -1.423485  ...                       -0.274747   \n",
       "1                   -0.070195  ...                       -0.274747   \n",
       "2                    0.173175  ...                       -0.274747   \n",
       "3                   -1.423485  ...                       -0.274747   \n",
       "4                    0.149822  ...                       -0.274747   \n",
       "\n",
       "   Income_Category_$40K - $60K_scaled  Income_Category_$60K - $80K_scaled  \\\n",
       "0                           -0.464327                            2.487633   \n",
       "1                           -0.464327                           -0.401989   \n",
       "2                           -0.464327                           -0.401989   \n",
       "3                           -0.464327                           -0.401989   \n",
       "4                           -0.464327                            2.487633   \n",
       "\n",
       "   Income_Category_$80K - $120K_scaled  Income_Category_Less than $40K_scaled  \\\n",
       "0                            -0.420153                              -0.740522   \n",
       "1                            -0.420153                               1.350398   \n",
       "2                            -0.420153                               1.350398   \n",
       "3                             2.380084                              -0.740522   \n",
       "4                            -0.420153                              -0.740522   \n",
       "\n",
       "   Income_Category_Unknown_scaled  Card_Category_Blue_scaled  \\\n",
       "0                       -0.350005                   0.266699   \n",
       "1                       -0.350005                   0.266699   \n",
       "2                       -0.350005                   0.266699   \n",
       "3                       -0.350005                   0.266699   \n",
       "4                       -0.350005                   0.266699   \n",
       "\n",
       "   Card_Category_Gold_scaled  Card_Category_Platinum_scaled  \\\n",
       "0                  -0.102351                       -0.04886   \n",
       "1                  -0.102351                       -0.04886   \n",
       "2                  -0.102351                       -0.04886   \n",
       "3                  -0.102351                       -0.04886   \n",
       "4                  -0.102351                       -0.04886   \n",
       "\n",
       "   Card_Category_Silver_scaled  \n",
       "0                    -0.238115  \n",
       "1                    -0.238115  \n",
       "2                    -0.238115  \n",
       "3                    -0.238115  \n",
       "4                    -0.238115  \n",
       "\n",
       "[5 rows x 32 columns]"
      ]
     },
     "execution_count": 29,
     "metadata": {},
     "output_type": "execute_result"
    }
   ],
   "source": [
    "# Standardisation\n",
    "from sklearn.preprocessing import StandardScaler\n",
    "sc = StandardScaler()\n",
    "X_train = sc.fit_transform(X_train)\n",
    "X_test = sc.fit_transform(X_test)\n",
    "\n",
    "# Build X_train df for data visualization\n",
    "X_train_df = pd.DataFrame(X_train, columns=features.columns).add_suffix('_scaled')\n",
    "X_train_df.head()"
   ]
  },
  {
   "cell_type": "code",
   "execution_count": 30,
   "metadata": {},
   "outputs": [
    {
     "name": "stdout",
     "output_type": "stream",
     "text": [
      "Fitting 10 folds for each of 9 candidates, totalling 90 fits\n",
      "(7138, 32)\n",
      "Best result for 9 neighbors\n",
      "with an accuracy of 87.53 %\n"
     ]
    }
   ],
   "source": [
    "# Use a KNN model\n",
    "from sklearn.neighbors import KNeighborsClassifier\n",
    "from sklearn.model_selection import GridSearchCV\n",
    "\n",
    "knn = KNeighborsClassifier()\n",
    "k_range = list(range(1,10))\n",
    "param_grid = dict(n_neighbors=k_range)\n",
    "\n",
    "grid = GridSearchCV(knn, param_grid, cv=10, scoring='accuracy', return_train_score=False, verbose=1)\n",
    "# Train the model with the train data\n",
    "grid_search = grid.fit(X_train, y_train)\n",
    "print(X_train.shape)\n",
    "\n",
    "# print(grid_search.best_params_)\n",
    "# print(grid_search.best_score_ *100)\n",
    "print(f\"Best result for {grid_search.best_params_.get('n_neighbors')} neighbors\\nwith an accuracy of {round(grid_search.best_score_*100, 2)} %\")\n",
    "# # Make a predition on the X_test datas\n",
    "# pred = knn.predict(X_test)\n",
    "# # Compare the prediction with the y_test\n",
    "# accuracy = knn.score(X_test, y_test)\n",
    "# print(f'Test accuracy:{accuracy}')\n"
   ]
  },
  {
   "cell_type": "code",
   "execution_count": 31,
   "metadata": {},
   "outputs": [
    {
     "name": "stdout",
     "output_type": "stream",
     "text": [
      "Test sample accuracy: 0.873\n"
     ]
    }
   ],
   "source": [
    "# Run the model with the best parameters\n",
    "optimal_kn = grid_search.best_params_.get('n_neighbors')\n",
    "\n",
    "knn_optimal = KNeighborsClassifier(n_neighbors=optimal_kn)\n",
    "knn_optimal.fit(X_train, y_train)\n",
    "accuracy_test = round(knn_optimal.score(X_test, y_test),3)   # model predict on X_test, and compare pred to y_test\n",
    "print(f'Test sample accuracy: {accuracy_test}')"
   ]
  },
  {
   "cell_type": "code",
   "execution_count": 32,
   "metadata": {},
   "outputs": [],
   "source": [
    "# Store trained model in pickle format\n",
    "with open('./model/classification/classification_model.pkl', 'wb') as file:\n",
    "    pickle.dump(knn_optimal, file)"
   ]
  },
  {
   "cell_type": "code",
   "execution_count": 33,
   "metadata": {},
   "outputs": [
    {
     "name": "stdout",
     "output_type": "stream",
     "text": [
      "                   precision    recall  f1-score   support\n",
      "\n",
      "Attrited Customer       0.79      0.31      0.45       498\n",
      "Existing Customer       0.88      0.98      0.93      2535\n",
      "\n",
      "         accuracy                           0.87      3033\n",
      "        macro avg       0.83      0.65      0.69      3033\n",
      "     weighted avg       0.86      0.87      0.85      3033\n",
      "\n"
     ]
    }
   ],
   "source": [
    "# Evaluate your model\n",
    "from sklearn.metrics import classification_report\n",
    "# \"Attrition_Flag\": {\"Existing Customer\":1 , \"Attrited Customer\": 0}}\n",
    "pred = knn_optimal.predict(X_test)\n",
    "\n",
    "print(classification_report(y_test, pred, target_names=target_names))"
   ]
  },
  {
   "cell_type": "code",
   "execution_count": 34,
   "metadata": {},
   "outputs": [
    {
     "data": {
      "image/png": "[encoded data removed]",
      "text/plain": [
       "<Figure size 500x500 with 2 Axes>"
      ]
     },
     "metadata": {},
     "output_type": "display_data"
    }
   ],
   "source": [
    "#confusion matrix\n",
    "from sklearn.metrics import confusion_matrix\n",
    "cm= confusion_matrix(y_test, pred)\n",
    "#cm vizualization\n",
    "\n",
    "import seaborn as sns \n",
    "f, ax =plt.subplots(figsize = (5,5))\n",
    "\n",
    "sns.heatmap(cm,annot = True, linewidths= 0.5, linecolor=\"red\", fmt=\".0f\", ax=ax)\n",
    "plt.xlabel(\"y_pred\")\n",
    "plt.ylabel(\"y_true\")\n",
    "plt.show()"
   ]
  },
  {
   "attachments": {},
   "cell_type": "markdown",
   "metadata": {},
   "source": [
    "### Prediction"
   ]
  },
  {
   "cell_type": "code",
   "execution_count": 35,
   "metadata": {},
   "outputs": [],
   "source": [
    "# Empty features df for predictions, stored in model folder\n",
    "X_form = pd.DataFrame(columns=features.columns)\n",
    "X_form.to_pickle('./model/classification/X_form.pkl')"
   ]
  },
  {
   "cell_type": "code",
   "execution_count": 36,
   "metadata": {},
   "outputs": [],
   "source": [
    "# import seaborn as sns\n",
    "# import matplotlib.pyplot as plt\n",
    "\n",
    "# # Convert the sparse matrix to a pandas DataFrame\n",
    "# graph_df = knn_optimal.kneighbors_graph().toarray()\n",
    "\n",
    "# # Plot the graph using heatmap function of seaborn\n",
    "# sns.heatmap(graph_df, cmap=\"Blues\")\n",
    "# plt.show()\n"
   ]
  }
 ],
 "metadata": {
  "kernelspec": {
   "display_name": "venv",
   "language": "python",
   "name": "python3"
  },
  "language_info": {
   "codemirror_mode": {
    "name": "ipython",
    "version": 3
   },
   "file_extension": ".py",
   "mimetype": "text/x-python",
   "name": "python",
   "nbconvert_exporter": "python",
   "pygments_lexer": "ipython3",
   "version": "3.11.0"
  },
  "orig_nbformat": 4,
  "vscode": {
   "interpreter": {
    "hash": "75aaf365d996750d5b82e8eb34d25e4084faa63fb1a7e3a22037bbcf57924a8a"
   }
  }
 },
 "nbformat": 4,
 "nbformat_minor": 2
}
