{
 "cells": [
  {
   "attachments": {},
   "cell_type": "markdown",
   "metadata": {},
   "source": [
    "# Creating the DB with SQLalchemy from scratch"
   ]
  },
  {
   "cell_type": "code",
   "execution_count": 38,
   "metadata": {},
   "outputs": [
    {
     "name": "stdout",
     "output_type": "stream",
     "text": [
      "(10127, 23)\n"
     ]
    }
   ],
   "source": [
    "from sqlalchemy import Column, Integer, String, CHAR, Float\n",
    "from sqlalchemy import create_engine, MetaData, Table\n",
    "from sqlalchemy.orm import declarative_base, sessionmaker\n",
    "import pandas as pd\n",
    "\n",
    "raw_path = 'data_cleaning/BankChurners.csv'\n",
    "cleaned_data_path = \"data_cleaning/ForDatabase_CleanedData.csv\"\n",
    "\n",
    "df = pd.read_csv(raw_path)\n",
    "print(df.shape)\n",
    "\n",
    "# Declare the base class\n",
    "Base = declarative_base()\n",
    "\n",
    "# Creating the DB from scratch\n",
    "class Raw_data(Base):\n",
    "    __tablename__ = \"raw_data\"\n",
    "\n",
    "    clientnum = Column('CLIENTNUM', Integer, primary_key=True)\n",
    "    attrition_flag = Column('Attrition_Flag', String, nullable=False)\n",
    "    customer_age = Column('Customer_Age', Integer, nullable=False)\n",
    "    #CHAR because it's a unique character and not a string\n",
    "    gender = Column('Gender', CHAR, nullable=False)\n",
    "    dependant_count = Column('Dependant_Count', Integer, nullable=False)\n",
    "    education_level = Column('Education_Level', String, nullable=False)\n",
    "    marital_status = Column('Marital_Status', String, nullable=False)\n",
    "    income_category = Column('Income_Category', String, nullable=False)\n",
    "    card_category = Column('Card_Category', String, nullable=False)\n",
    "    month_on_book = Column('Month_On_Book', Integer, nullable=False)\n",
    "    total_relationship_count = Column('Total_Relationship_Count', Integer, nullable=False)\n",
    "    months_inactive_12_mon = Column('Months_Inactive_12_Mon', Integer, nullable=False)\n",
    "    contacts_count_12_mon = Column('Contacts_Count_12_Mon', Integer, nullable=False)\n",
    "    credit_limit = Column('Credit_Limit', Float, nullable=False)\n",
    "    total_revolving_bal = Column('Total_Revolving_Bal', Integer, nullable=False)\n",
    "    avg_open_to_buy = Column('Avg_Open_To_Buy', Float, nullable=False)\n",
    "    total_amt_chng_Q4_Q1 = Column('Total_Amt_Chng_Q4_Q1', Float, nullable=False)\n",
    "    total_trans_amt = Column('Total_Trans_Amt', Integer, nullable=False)\n",
    "    total_trans_ct = Column('Total_Trans_Ct', Integer, nullable=False)\n",
    "    total_ct_chng_Q4_Q1 = Column('Total_Ct_Chng_Q4_Q1', Float, nullable=False)\n",
    "    avg_utilization_ratio = Column('Avg_Utilization_Ratio', Float, nullable=False)\n",
    "    NBC1 = Column('Naive_Bayes_Classifier_Attrition_Flag_Card_Category_Contacts_Count_12_mon_Dependent_count_Education_Level_Months_Inactive_12_mon_1', Float, nullable=False)\n",
    "    NBC2 = Column('Naive_Bayes_Classifier_Attrition_Flag_Card_Category_Contacts_Count_12_mon_Dependent_count_Education_Level_Months_Inactive_12_mon_2', Float, nullable=False)\n",
    "    \n",
    "    def __init__(self, clientnum : int, attrition_flag : str, customer_age : int, gender : str, dependant_count : int, education_level : str,\n",
    "                    marital_status : str, income_category : str, card_category : str, month_on_book : int, total_relationshiop_count : int,\n",
    "                    months_inactive_12_mon : int, contacts_count_12_mon : int, credit_limit : float, total_revolving_bal : int, \n",
    "                    avg_open_to_buy : float, total_amt_chng_Q4_Q1 : float, total_trans_amt : int, total_trans_ct : int, total_ct_chng_Q4_Q1 : float,\n",
    "                    avg_utilization_ratio : float, NBC1 : float, NBC2 : float):\n",
    "        self.clientnum = clientnum\n",
    "        self.attrition_flag = attrition_flag\n",
    "        self.customer_age = customer_age\n",
    "        self.gender = gender\n",
    "        self.dependant_count = dependant_count\n",
    "        self.education_level = education_level\n",
    "        self.marital_status = marital_status\n",
    "        self.income_category = income_category\n",
    "        self.card_category = card_category\n",
    "        self.month_on_book = month_on_book\n",
    "        self.total_relationship_count = total_relationshiop_count\n",
    "        self.months_inactive_12_mon = months_inactive_12_mon\n",
    "        self.contacts_count_12_mon = contacts_count_12_mon\n",
    "        self.credit_limit = credit_limit\n",
    "        self.total_revolving_bal = total_revolving_bal\n",
    "        self.avg_open_to_buy = avg_open_to_buy\n",
    "        self.total_amt_chng_Q4_Q1 = total_amt_chng_Q4_Q1\n",
    "        self.total_trans_amt = total_trans_amt\n",
    "        self.total_trans_ct = total_trans_ct\n",
    "        self.total_ct_chng_Q4_Q1 = total_ct_chng_Q4_Q1\n",
    "        self.avg_utilization_ratio = avg_utilization_ratio\n",
    "        self.NBC1 = NBC1\n",
    "        self.NBC2 = NBC2\n",
    "\n",
    "# Create the engine to interact with the DB\n",
    "engine = create_engine('sqlite:///DB_from_scratch.db')\n",
    "\n",
    "# Create database following parameters defined on `Base` => this step close the creation of the DB but it's empty !\n",
    "Base.metadata.create_all(engine)\n"
   ]
  },
  {
   "attachments": {},
   "cell_type": "markdown",
   "metadata": {},
   "source": [
    "# Fill the DB with the raw data from the original csv"
   ]
  },
  {
   "cell_type": "code",
   "execution_count": 39,
   "metadata": {},
   "outputs": [
    {
     "data": {
      "text/html": [
       "<div>\n",
       "<style scoped>\n",
       "    .dataframe tbody tr th:only-of-type {\n",
       "        vertical-align: middle;\n",
       "    }\n",
       "\n",
       "    .dataframe tbody tr th {\n",
       "        vertical-align: top;\n",
       "    }\n",
       "\n",
       "    .dataframe thead th {\n",
       "        text-align: right;\n",
       "    }\n",
       "</style>\n",
       "<table border=\"1\" class=\"dataframe\">\n",
       "  <thead>\n",
       "    <tr style=\"text-align: right;\">\n",
       "      <th></th>\n",
       "      <th>CLIENTNUM</th>\n",
       "      <th>Attrition_Flag</th>\n",
       "      <th>Customer_Age</th>\n",
       "      <th>Gender</th>\n",
       "      <th>Dependent_count</th>\n",
       "      <th>Education_Level</th>\n",
       "      <th>Marital_Status</th>\n",
       "      <th>Income_Category</th>\n",
       "      <th>Card_Category</th>\n",
       "      <th>Months_on_book</th>\n",
       "      <th>...</th>\n",
       "      <th>Credit_Limit</th>\n",
       "      <th>Total_Revolving_Bal</th>\n",
       "      <th>Avg_Open_To_Buy</th>\n",
       "      <th>Total_Amt_Chng_Q4_Q1</th>\n",
       "      <th>Total_Trans_Amt</th>\n",
       "      <th>Total_Trans_Ct</th>\n",
       "      <th>Total_Ct_Chng_Q4_Q1</th>\n",
       "      <th>Avg_Utilization_Ratio</th>\n",
       "      <th>Naive_Bayes_Classifier_Attrition_Flag_Card_Category_Contacts_Count_12_mon_Dependent_count_Education_Level_Months_Inactive_12_mon_1</th>\n",
       "      <th>Naive_Bayes_Classifier_Attrition_Flag_Card_Category_Contacts_Count_12_mon_Dependent_count_Education_Level_Months_Inactive_12_mon_2</th>\n",
       "    </tr>\n",
       "  </thead>\n",
       "  <tbody>\n",
       "    <tr>\n",
       "      <th>0</th>\n",
       "      <td>768805383</td>\n",
       "      <td>Existing Customer</td>\n",
       "      <td>45</td>\n",
       "      <td>M</td>\n",
       "      <td>3</td>\n",
       "      <td>High School</td>\n",
       "      <td>Married</td>\n",
       "      <td>$60K - $80K</td>\n",
       "      <td>Blue</td>\n",
       "      <td>39</td>\n",
       "      <td>...</td>\n",
       "      <td>12691.0</td>\n",
       "      <td>777</td>\n",
       "      <td>11914.0</td>\n",
       "      <td>1.335</td>\n",
       "      <td>1144</td>\n",
       "      <td>42</td>\n",
       "      <td>1.625</td>\n",
       "      <td>0.061</td>\n",
       "      <td>0.000093</td>\n",
       "      <td>0.99991</td>\n",
       "    </tr>\n",
       "  </tbody>\n",
       "</table>\n",
       "<p>1 rows × 23 columns</p>\n",
       "</div>"
      ],
      "text/plain": [
       "   CLIENTNUM     Attrition_Flag  Customer_Age Gender  Dependent_count  \\\n",
       "0  768805383  Existing Customer            45      M                3   \n",
       "\n",
       "  Education_Level Marital_Status Income_Category Card_Category  \\\n",
       "0     High School        Married     $60K - $80K          Blue   \n",
       "\n",
       "   Months_on_book  ...  Credit_Limit  Total_Revolving_Bal  Avg_Open_To_Buy  \\\n",
       "0              39  ...       12691.0                  777          11914.0   \n",
       "\n",
       "   Total_Amt_Chng_Q4_Q1  Total_Trans_Amt  Total_Trans_Ct  Total_Ct_Chng_Q4_Q1  \\\n",
       "0                 1.335             1144              42                1.625   \n",
       "\n",
       "   Avg_Utilization_Ratio  \\\n",
       "0                  0.061   \n",
       "\n",
       "   Naive_Bayes_Classifier_Attrition_Flag_Card_Category_Contacts_Count_12_mon_Dependent_count_Education_Level_Months_Inactive_12_mon_1  \\\n",
       "0                                           0.000093                                                                                    \n",
       "\n",
       "   Naive_Bayes_Classifier_Attrition_Flag_Card_Category_Contacts_Count_12_mon_Dependent_count_Education_Level_Months_Inactive_12_mon_2  \n",
       "0                                            0.99991                                                                                   \n",
       "\n",
       "[1 rows x 23 columns]"
      ]
     },
     "metadata": {},
     "output_type": "display_data"
    }
   ],
   "source": [
    "df = pd.read_csv(raw_path)\n",
    "\n",
    "# Bind the engine to the metadata of the Base class so that the\n",
    "# declaratives can be accessed through a DBSession instance\n",
    "Base.metadata.bind = engine\n",
    "DBsession = sessionmaker(bind=engine)\n",
    "session = DBsession()\n",
    "\n",
    "# Going trough the whole df to enter each df's column in the DB's related column where each column is a tuple with the iterrows function\n",
    "display(df.head(1))\n",
    "for row in df.iterrows():\n",
    "    raw_data = Raw_data(row[1][0],row[1][1],row[1][2],row[1][3],row[1][4],row[1][5],row[1][6],row[1][7],row[1][8],row[1][9],row[1][10],row[1][11],\n",
    "    row[1][12],row[1][13],row[1][14],row[1][15],row[1][16],row[1][17],row[1][18],row[1][19],row[1][20],row[1][21],row[1][22])\n",
    "    session.add(raw_data)\n",
    "    session.commit()\n",
    "\n",
    "\n",
    "session.close()\n"
   ]
  },
  {
   "attachments": {},
   "cell_type": "markdown",
   "metadata": {},
   "source": [
    "# Create the table with the cleaned csv file from Anil's work"
   ]
  },
  {
   "cell_type": "code",
   "execution_count": 40,
   "metadata": {},
   "outputs": [],
   "source": [
    "class Cleaned_data(Base):\n",
    "    __tablename__ = \"cleaned_data\"\n",
    "\n",
    "    clientnum = Column('CLIENTNUM', Integer, primary_key=True)\n",
    "    attrition_flag = Column('Attrition_Flag', String, nullable=False)\n",
    "    customer_age = Column('Customer_Age', Integer, nullable=False)\n",
    "    #CHAR because it's a unique character and not a string\n",
    "    gender = Column('Gender', CHAR, nullable=False)\n",
    "    dependant_count = Column('Dependant_Count', Integer, nullable=False)\n",
    "    education_level = Column('Education_Level', String, nullable=False)\n",
    "    marital_status = Column('Marital_Status', String, nullable=False)\n",
    "    income_category = Column('Income_Category', String, nullable=False)\n",
    "    card_category = Column('Card_Category', String, nullable=False)\n",
    "    month_on_book = Column('Month_On_Book', Integer, nullable=False)\n",
    "    total_relationship_count = Column('Total_Relationship_Count', Integer, nullable=False)\n",
    "    months_inactive_12_mon = Column('Months_Inactive_12_Mon', Integer, nullable=False)\n",
    "    contacts_count_12_mon = Column('Contacts_Count_12_Mon', Integer, nullable=False)\n",
    "    credit_limit = Column('Credit_Limit', Float, nullable=False)\n",
    "    total_revolving_bal = Column('Total_Revolving_Bal', Integer, nullable=False)\n",
    "    #avg_open_to_buy = Column('Avg_Open_To_Buy', Float, nullable=False) #Normal that it's deleted ???\n",
    "    total_amt_chng_Q4_Q1 = Column('Total_Amt_Chng_Q4_Q1', Float, nullable=False)\n",
    "    total_trans_amt = Column('Total_Trans_Amt', Integer, nullable=False)\n",
    "    total_trans_ct = Column('Total_Trans_Ct', Integer, nullable=False)\n",
    "    total_ct_chng_Q4_Q1 = Column('Total_Ct_Chng_Q4_Q1', Float, nullable=False)\n",
    "    avg_utilization_ratio = Column('Avg_Utilization_Ratio', Float, nullable=False)\n",
    "    \n",
    "    def __init__(self, attrition_flag : str, customer_age : int, gender : str, dependant_count : int, education_level : str,\n",
    "                    marital_status : str, income_category : str, card_category : str, month_on_book : int, total_relationshiop_count : int,\n",
    "                    months_inactive_12_mon : int, contacts_count_12_mon : int, credit_limit : float, total_revolving_bal : int, \n",
    "                    total_amt_chng_Q4_Q1 : float, total_trans_amt : int, total_trans_ct : int, total_ct_chng_Q4_Q1 : float,\n",
    "                    avg_utilization_ratio : float):\n",
    "        \n",
    "        self.attrition_flag = attrition_flag\n",
    "        self.customer_age = customer_age\n",
    "        self.gender = gender\n",
    "        self.dependant_count = dependant_count\n",
    "        self.education_level = education_level\n",
    "        self.marital_status = marital_status\n",
    "        self.income_category = income_category\n",
    "        self.card_category = card_category\n",
    "        self.month_on_book = month_on_book\n",
    "        self.total_relationship_count = total_relationshiop_count\n",
    "        self.months_inactive_12_mon = months_inactive_12_mon\n",
    "        self.contacts_count_12_mon = contacts_count_12_mon\n",
    "        self.credit_limit = credit_limit\n",
    "        self.total_revolving_bal = total_revolving_bal\n",
    "        #self.avg_open_to_buy = avg_open_to_buy\n",
    "        self.total_amt_chng_Q4_Q1 = total_amt_chng_Q4_Q1\n",
    "        self.total_trans_amt = total_trans_amt\n",
    "        self.total_trans_ct = total_trans_ct\n",
    "        self.total_ct_chng_Q4_Q1 = total_ct_chng_Q4_Q1\n",
    "        self.avg_utilization_ratio = avg_utilization_ratio"
   ]
  },
  {
   "cell_type": "code",
   "execution_count": 41,
   "metadata": {},
   "outputs": [
    {
     "data": {
      "text/plain": [
       "(10110, 20)"
      ]
     },
     "metadata": {},
     "output_type": "display_data"
    }
   ],
   "source": [
    "df_cleaned = pd.read_csv(cleaned_data_path)\n",
    "\n",
    "#Deleting this column\n",
    "del df_cleaned['Unnamed: 0']\n",
    "display(df_cleaned.shape)\n",
    "#Creating the new table\n",
    "meta = MetaData()\n",
    "\n",
    "cleaned_data = Table('cleaned_data', meta,\n",
    "    Column(\"Attrition_Flag\", String),\n",
    "    Column(\"Customer_Age\", Integer),\n",
    "    Column(\"Gender\", CHAR),\n",
    "    Column(\"Dependent_Count\", Integer),\n",
    "    Column('Education_Level', String),\n",
    "    Column('Marital_Status', String),\n",
    "    Column('Income_Category', String),\n",
    "    Column('Card_Category', String),\n",
    "    Column('Months_on_book', Integer),\n",
    "    Column('Total_Relationship_Count', Integer),\n",
    "    Column('Month_Inactive_12_mon', Integer),\n",
    "    Column('Contacts_Count_12_mon', Integer),\n",
    "    Column('Credit_Limit', Float),\n",
    "    Column('Total_Revolving_Bal', Integer),\n",
    "    Column('Total_Amt_Chng_Q4_Q1', Float),\n",
    "    Column('Total_Trans_Amt', Integer),\n",
    "    Column('Total_Trans_Ct', Integer),\n",
    "    Column('Total_Ct_Chng_Q4_Q1', Float),\n",
    "    Column('Avg_Utilization_Ratio', Float))\n",
    "\n",
    "#The create_all() function uses the engine object to create all the defined table objects and stores the information in metadata.\n",
    "meta.create_all(engine)\n",
    "\n",
    "#for row in df_cleaned.iterrows():\n",
    "#    cleaned_data = \n",
    "\n"
   ]
  },
  {
   "attachments": {},
   "cell_type": "markdown",
   "metadata": {},
   "source": [
    "# Querying informations from the DB"
   ]
  },
  {
   "cell_type": "code",
   "execution_count": 42,
   "metadata": {},
   "outputs": [
    {
     "name": "stdout",
     "output_type": "stream",
     "text": [
      "['cleaned_data', 'raw_data']\n"
     ]
    }
   ],
   "source": [
    "from sqlalchemy import inspect\n",
    "\n",
    "inspector = inspect(engine)\n",
    "\n",
    "# Get the tables'list in the DB\n",
    "\n",
    "print(inspector.get_table_names())"
   ]
  },
  {
   "attachments": {},
   "cell_type": "markdown",
   "metadata": {},
   "source": [
    "## Print the first 10 rows of the table raw_data"
   ]
  },
  {
   "cell_type": "code",
   "execution_count": 44,
   "metadata": {},
   "outputs": [
    {
     "name": "stdout",
     "output_type": "stream",
     "text": [
      "{'_sa_instance_state': <sqlalchemy.orm.state.InstanceState object at 0x17fac8110>, 'attrition_flag': 'Existing Customer', 'month_on_book': 36, 'total_trans_amt': 15149, 'customer_age': 45, 'total_relationship_count': 4, 'total_trans_ct': 111, 'gender': 'F', 'months_inactive_12_mon': 3, 'total_ct_chng_Q4_Q1': 0.734, 'dependant_count': 3, 'contacts_count_12_mon': 3, 'avg_utilization_ratio': 0.469, 'education_level': 'High School', 'credit_limit': 3544.0, 'NBC1': 0.00030516, 'clientnum': 708082083, 'marital_status': 'Married', 'total_revolving_bal': 1661, 'NBC2': 0.99969, 'income_category': 'Less than $40K', 'avg_open_to_buy': 1883.0, 'card_category': 'Blue', 'total_amt_chng_Q4_Q1': 0.831}\n",
      "{'_sa_instance_state': <sqlalchemy.orm.state.InstanceState object at 0x17fac91f0>, 'attrition_flag': 'Attrited Customer', 'month_on_book': 45, 'total_trans_amt': 992, 'customer_age': 58, 'total_relationship_count': 3, 'total_trans_ct': 21, 'gender': 'M', 'months_inactive_12_mon': 1, 'total_ct_chng_Q4_Q1': 0.4, 'dependant_count': 0, 'contacts_count_12_mon': 3, 'avg_utilization_ratio': 0.736, 'education_level': 'Unknown', 'credit_limit': 3421.0, 'NBC1': 0.98869, 'clientnum': 708083283, 'marital_status': 'Single', 'total_revolving_bal': 2517, 'NBC2': 0.01131, 'income_category': '$40K - $60K', 'avg_open_to_buy': 904.0, 'card_category': 'Blue', 'total_amt_chng_Q4_Q1': 0.992}\n",
      "{'_sa_instance_state': <sqlalchemy.orm.state.InstanceState object at 0x280bc9310>, 'attrition_flag': 'Attrited Customer', 'month_on_book': 38, 'total_trans_amt': 1447, 'customer_age': 46, 'total_relationship_count': 6, 'total_trans_ct': 23, 'gender': 'M', 'months_inactive_12_mon': 3, 'total_ct_chng_Q4_Q1': 0.0, 'dependant_count': 3, 'contacts_count_12_mon': 3, 'avg_utilization_ratio': 0.214, 'education_level': 'Doctorate', 'credit_limit': 8258.0, 'NBC1': 0.9978, 'clientnum': 708084558, 'marital_status': 'Divorced', 'total_revolving_bal': 1771, 'NBC2': 0.00219584, 'income_category': '$80K - $120K', 'avg_open_to_buy': 6487.0, 'card_category': 'Blue', 'total_amt_chng_Q4_Q1': 0.0}\n",
      "{'_sa_instance_state': <sqlalchemy.orm.state.InstanceState object at 0x280854a70>, 'attrition_flag': 'Existing Customer', 'month_on_book': 24, 'total_trans_amt': 3940, 'customer_age': 34, 'total_relationship_count': 6, 'total_trans_ct': 82, 'gender': 'F', 'months_inactive_12_mon': 2, 'total_ct_chng_Q4_Q1': 0.952, 'dependant_count': 2, 'contacts_count_12_mon': 2, 'avg_utilization_ratio': 0.0, 'education_level': 'Uneducated', 'credit_limit': 1438.3, 'NBC1': 0.00011703, 'clientnum': 708085458, 'marital_status': 'Single', 'total_revolving_bal': 0, 'NBC2': 0.99988, 'income_category': 'Less than $40K', 'avg_open_to_buy': 1438.3, 'card_category': 'Blue', 'total_amt_chng_Q4_Q1': 0.827}\n",
      "{'_sa_instance_state': <sqlalchemy.orm.state.InstanceState object at 0x2808549b0>, 'attrition_flag': 'Existing Customer', 'month_on_book': 41, 'total_trans_amt': 4369, 'customer_age': 49, 'total_relationship_count': 3, 'total_trans_ct': 59, 'gender': 'F', 'months_inactive_12_mon': 5, 'total_ct_chng_Q4_Q1': 0.735, 'dependant_count': 2, 'contacts_count_12_mon': 2, 'avg_utilization_ratio': 0.239, 'education_level': 'Uneducated', 'credit_limit': 3128.0, 'NBC1': 0.00020656, 'clientnum': 708086958, 'marital_status': 'Married', 'total_revolving_bal': 749, 'NBC2': 0.99979, 'income_category': 'Unknown', 'avg_open_to_buy': 2379.0, 'card_category': 'Blue', 'total_amt_chng_Q4_Q1': 0.598}\n",
      "{'_sa_instance_state': <sqlalchemy.orm.state.InstanceState object at 0x127b45fd0>, 'attrition_flag': 'Existing Customer', 'month_on_book': 34, 'total_trans_amt': 1448, 'customer_age': 43, 'total_relationship_count': 5, 'total_trans_ct': 29, 'gender': 'M', 'months_inactive_12_mon': 2, 'total_ct_chng_Q4_Q1': 0.381, 'dependant_count': 4, 'contacts_count_12_mon': 2, 'avg_utilization_ratio': 0.055, 'education_level': 'Unknown', 'credit_limit': 33304.0, 'NBC1': 0.00013121, 'clientnum': 708095133, 'marital_status': 'Unknown', 'total_revolving_bal': 1833, 'NBC2': 0.99987, 'income_category': '$120K +', 'avg_open_to_buy': 31471.0, 'card_category': 'Blue', 'total_amt_chng_Q4_Q1': 0.428}\n",
      "{'_sa_instance_state': <sqlalchemy.orm.state.InstanceState object at 0x280cda9f0>, 'attrition_flag': 'Existing Customer', 'month_on_book': 19, 'total_trans_amt': 1598, 'customer_age': 32, 'total_relationship_count': 6, 'total_trans_ct': 39, 'gender': 'F', 'months_inactive_12_mon': 1, 'total_ct_chng_Q4_Q1': 0.773, 'dependant_count': 0, 'contacts_count_12_mon': 0, 'avg_utilization_ratio': 0.5, 'education_level': 'Graduate', 'credit_limit': 2834.0, 'NBC1': 1.7434e-05, 'clientnum': 708098133, 'marital_status': 'Married', 'total_revolving_bal': 1418, 'NBC2': 0.99998, 'income_category': 'Less than $40K', 'avg_open_to_buy': 1416.0, 'card_category': 'Blue', 'total_amt_chng_Q4_Q1': 1.458}\n",
      "{'_sa_instance_state': <sqlalchemy.orm.state.InstanceState object at 0x280cdaed0>, 'attrition_flag': 'Existing Customer', 'month_on_book': 36, 'total_trans_amt': 2732, 'customer_age': 37, 'total_relationship_count': 4, 'total_trans_ct': 63, 'gender': 'F', 'months_inactive_12_mon': 2, 'total_ct_chng_Q4_Q1': 0.853, 'dependant_count': 2, 'contacts_count_12_mon': 2, 'avg_utilization_ratio': 0.327, 'education_level': 'High School', 'credit_limit': 5723.0, 'NBC1': 0.00011065, 'clientnum': 708099183, 'marital_status': 'Single', 'total_revolving_bal': 1873, 'NBC2': 0.99989, 'income_category': 'Less than $40K', 'avg_open_to_buy': 3850.0, 'card_category': 'Blue', 'total_amt_chng_Q4_Q1': 0.851}\n",
      "{'_sa_instance_state': <sqlalchemy.orm.state.InstanceState object at 0x280cdbad0>, 'attrition_flag': 'Existing Customer', 'month_on_book': 36, 'total_trans_amt': 4943, 'customer_age': 55, 'total_relationship_count': 3, 'total_trans_ct': 85, 'gender': 'F', 'months_inactive_12_mon': 3, 'total_ct_chng_Q4_Q1': 0.735, 'dependant_count': 3, 'contacts_count_12_mon': 3, 'avg_utilization_ratio': 0.85, 'education_level': 'College', 'credit_limit': 2679.0, 'NBC1': 0.00030519, 'clientnum': 708100533, 'marital_status': 'Single', 'total_revolving_bal': 2277, 'NBC2': 0.99969, 'income_category': 'Less than $40K', 'avg_open_to_buy': 402.0, 'card_category': 'Blue', 'total_amt_chng_Q4_Q1': 0.736}\n",
      "{'_sa_instance_state': <sqlalchemy.orm.state.InstanceState object at 0x280cdbb90>, 'attrition_flag': 'Existing Customer', 'month_on_book': 45, 'total_trans_amt': 15798, 'customer_age': 52, 'total_relationship_count': 1, 'total_trans_ct': 128, 'gender': 'M', 'months_inactive_12_mon': 5, 'total_ct_chng_Q4_Q1': 0.73, 'dependant_count': 1, 'contacts_count_12_mon': 1, 'avg_utilization_ratio': 0.212, 'education_level': 'High School', 'credit_limit': 11898.0, 'NBC1': 0.00011056, 'clientnum': 708103608, 'marital_status': 'Single', 'total_revolving_bal': 2517, 'NBC2': 0.99989, 'income_category': '$60K - $80K', 'avg_open_to_buy': 9381.0, 'card_category': 'Blue', 'total_amt_chng_Q4_Q1': 0.745}\n"
     ]
    }
   ],
   "source": [
    "first_entry = session.query(Raw_data).limit(10).all()\n",
    "\n",
    "for row in first_entry :\n",
    "    print(row.__dict__)"
   ]
  }
 ],
 "metadata": {
  "kernelspec": {
   "display_name": "Python 3",
   "language": "python",
   "name": "python3"
  },
  "language_info": {
   "codemirror_mode": {
    "name": "ipython",
    "version": 3
   },
   "file_extension": ".py",
   "mimetype": "text/x-python",
   "name": "python",
   "nbconvert_exporter": "python",
   "pygments_lexer": "ipython3",
   "version": "3.11.0"
  },
  "orig_nbformat": 4,
  "vscode": {
   "interpreter": {
    "hash": "aee8b7b246df8f9039afb4144a1f6fd8d2ca17a180786b69acc140d282b71a49"
   }
  }
 },
 "nbformat": 4,
 "nbformat_minor": 2
}
